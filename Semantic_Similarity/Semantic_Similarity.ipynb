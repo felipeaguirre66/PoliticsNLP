{
 "cells": [
  {
   "cell_type": "code",
   "execution_count": 7,
   "id": "79b51be7",
   "metadata": {},
   "outputs": [],
   "source": [
    "import pandas as pd\n",
    "import regex as re\n",
    "import unidecode\n",
    "import nltk\n",
    "import spacy\n",
    "import time\n",
    "\n",
    "path_to_MyModule = '..'\n",
    "\n",
    "import sys\n",
    "sys.path.insert(0, path_to_MyModule) \n",
    "\n",
    "from MyModule.NLPFunctions import *"
   ]
  },
  {
   "cell_type": "code",
   "execution_count": 8,
   "id": "fa1bd86d",
   "metadata": {},
   "outputs": [],
   "source": [
    "df = pd.read_excel('datos.xlsx')[['ID','texto','desafio']]"
   ]
  },
  {
   "cell_type": "code",
   "execution_count": 9,
   "id": "436a5108",
   "metadata": {},
   "outputs": [],
   "source": [
    "# Limpieza\n",
    "df.drop_duplicates(subset='texto', inplace=True)\n",
    "\n",
    "# Quitando texto de mas en columna \"desafio\"\n",
    "df['desafio'] = df['desafio'].apply(lambda x: re.findall('[0-9]+', x)[0])\n",
    "\n",
    "# A str\n",
    "df['texto'] = df['texto'].astype(str)"
   ]
  },
  {
   "cell_type": "markdown",
   "id": "c27f562e",
   "metadata": {},
   "source": [
    "# TF-IDF"
   ]
  },
  {
   "cell_type": "code",
   "execution_count": 10,
   "id": "045a1907",
   "metadata": {},
   "outputs": [
    {
     "name": "stdout",
     "output_type": "stream",
     "text": [
      "Comparing:\n",
      "['Izquierda en lo que respecta a mi desprecio al capitalismo.Derecha porque soy antidelincuencia.']\n",
      "\n",
      "----\n",
      "0.\n",
      "Me siento mas identificado con los partidos de derecha. Mi principal motivo es que en mi país, Argentina, los partidos de izquierda están asociados a mucha corrupción. \n",
      "Score: 0.2524335281664663\n",
      "----\n",
      "1.\n",
      "Me siento más identificado con los partidos de izquierda porque son los que luchan contra la desigualdad y no la ven como algo natural, como sí lo hace la derecha\n",
      "Score: 0.2085362617250446\n",
      "----\n",
      "2.\n",
      "derecha\n",
      "Score: 0.19562404732810829\n",
      "----\n",
      "3.\n",
      "De izquierda, la derecha nunca estuvo a favor del trabajador. \n",
      "Score: 0.16077758266031264\n",
      "----\n",
      "4.\n",
      "Ideología Centro Derecha\n",
      "Score: 0.15108397378759436\n",
      "----\n",
      "5.\n",
      "Derecha. No soy partidario de ningún político pero si tengo que decir que se acerca más a mi ideología diría que la derecha es más acertada\n",
      "Score: 0.1333349191762562\n",
      "----\n",
      "6.\n",
      "De izquierda\n",
      "Score: 0.12368000375121829\n",
      "----\n",
      "7.\n",
      "Centro-derecha.\n",
      "Score: 0.12315304754504355\n",
      "----\n",
      "8.\n",
      "Socialmente, de centro-izquierda. Economicamente, de centro-derecha.\n",
      "Score: 0.11823117821065426\n",
      "----\n",
      "9.\n",
      "Un poco más con los de izquierda. No me gustan los partidos de derecha.\n",
      "Score: 0.11340159341456241\n",
      "\n",
      "\n",
      "Comparing:\n",
      "El Estado regule, equitativo\n",
      "\n",
      "----\n",
      "0.\n",
      "El Estado regule, equitativo\n",
      "Score: 1.0000000000000002\n",
      "----\n",
      "1.\n",
      "Me parecen bien pero deberian regularse de manera distinta. \n",
      "Score: 0.2894259396421571\n",
      "----\n",
      "2.\n",
      "El subsidio al transporte debe ser regulado en función de las condiciones  en que se realiza. No todos los tramos son iguales. Algunos pueden dar ganancias. Otros nunca lo harán\n",
      "Score: 0.18061638469984037\n",
      "----\n",
      "3.\n",
      "EL transporte publico en todo el mundo es subsidiado. Creo que hay que regular que ese financiamiento favorezca a les que menos tienen y no que favorezca intereses de los grupos empresariales. Que ese subsidio permita que un trabajador pueda salir de sus barrios y llegar a horario a sus puestos de trabajo, viajando de manera digna.\n",
      "Score: 0.12640895271929303\n",
      "----\n",
      "4.\n",
      "Estoy parcialmente de acuerdo con esta frase ya que, por un lado, es necesario que el Ministerio de Transporte regule y controle los medios de transporte público, pero por otro, los subsidios son necesarios. Además, es plata del propio pueblo que hace que podamos acceder a un boleto más barato, de lo contrario es muy difícil para la gente que todos los días viaja a trabajar, para buscar trabajo o estudiar ya que representa una cantidad de dinero importante, sobre todo quienes trabajan o viven en el conurbano y viajan a o desde capital ya que el boleto es muy caro y hay quienes toman más de un transporte. \n",
      "Score: 0.0868432782757429\n",
      "----\n",
      "5.\n",
      "Clase media, trabajador. Porque vivo trabajando para mantenerme a mi y a mi familia.\n",
      "Score: 0.0\n",
      "----\n",
      "6.\n",
      "Con ninguno en particular en realidad, me parecen dos caras de la misma moneda y que por más que de ambos lados se la pasen acusandose mutuamente, tienen más similitudes que diferencias.\n",
      "Score: 0.0\n",
      "----\n",
      "7.\n",
      "Que es correcta, pero que debería tener como fin generarle un empelo estable y en blanco a la gente que ayuda, para que pueda desarrollarse y tener una vida digna.\n",
      "Score: 0.0\n",
      "----\n",
      "8.\n",
      "Deberían auditar que se le da a que empresa y el estado real de las mismas. Porque seguramente una línea de capital debe recibir el mismo subsidio que una de gonzalez catan por ejemplo, sin realizar el mismo recorrido.\n",
      "Score: 0.0\n",
      "----\n",
      "9.\n",
      "Favaloro. Logró algo que no se había realizado nunca y murió ahogado por las deudas y un gobierno al que sólo le importaba cobrar sus deudas.\n",
      "Score: 0.0\n"
     ]
    },
    {
     "name": "stderr",
     "output_type": "stream",
     "text": [
      "C:\\Users\\Felipe\\Desktop\\Proyectos\\NLP_Politica\\Semantic_Similarity\\..\\MyModule\\NLPFunctions.py:366: FutureWarning: elementwise comparison failed; returning scalar instead, but in the future will perform elementwise comparison\n",
      "  if ID not in self.df['ID'].values:\n",
      "C:\\Users\\Felipe\\Desktop\\Proyectos\\NLP_Politica\\Semantic_Similarity\\..\\MyModule\\NLPFunctions.py:371: FutureWarning: The behavior of `series[i:j]` with an integer-dtype index is deprecated. In a future version, this will be treated as *label-based* indexing, consistent with e.g. `series[i]` lookups. To retain the old behavior, use `series.iloc[i:j]`. To get the future behavior, use `series.loc[i:j]`.\n",
      "  index_and_scores = self.df_similarity[ID].nlargest(N+1)[1:]\n"
     ]
    },
    {
     "data": {
      "text/plain": [
       "{729: ['El Estado regule, equitativo', 1.0000000000000002],\n",
       " 653: ['Me parecen bien pero deberian regularse de manera distinta. ',\n",
       "  0.2894259396421571],\n",
       " 343: ['El subsidio al transporte debe ser regulado en función de las condiciones  en que se realiza. No todos los tramos son iguales. Algunos pueden dar ganancias. Otros nunca lo harán',\n",
       "  0.18061638469984037],\n",
       " 280: ['EL transporte publico en todo el mundo es subsidiado. Creo que hay que regular que ese financiamiento favorezca a les que menos tienen y no que favorezca intereses de los grupos empresariales. Que ese subsidio permita que un trabajador pueda salir de sus barrios y llegar a horario a sus puestos de trabajo, viajando de manera digna.',\n",
       "  0.12640895271929303],\n",
       " 669: ['Estoy parcialmente de acuerdo con esta frase ya que, por un lado, es necesario que el Ministerio de Transporte regule y controle los medios de transporte público, pero por otro, los subsidios son necesarios. Además, es plata del propio pueblo que hace que podamos acceder a un boleto más barato, de lo contrario es muy difícil para la gente que todos los días viaja a trabajar, para buscar trabajo o estudiar ya que representa una cantidad de dinero importante, sobre todo quienes trabajan o viven en el conurbano y viajan a o desde capital ya que el boleto es muy caro y hay quienes toman más de un transporte. ',\n",
       "  0.0868432782757429],\n",
       " 568: ['Clase media, trabajador. Porque vivo trabajando para mantenerme a mi y a mi familia.',\n",
       "  0.0],\n",
       " 565: ['Con ninguno en particular en realidad, me parecen dos caras de la misma moneda y que por más que de ambos lados se la pasen acusandose mutuamente, tienen más similitudes que diferencias.',\n",
       "  0.0],\n",
       " 566: ['Que es correcta, pero que debería tener como fin generarle un empelo estable y en blanco a la gente que ayuda, para que pueda desarrollarse y tener una vida digna.',\n",
       "  0.0],\n",
       " 567: ['Deberían auditar que se le da a que empresa y el estado real de las mismas. Porque seguramente una línea de capital debe recibir el mismo subsidio que una de gonzalez catan por ejemplo, sin realizar el mismo recorrido.',\n",
       "  0.0],\n",
       " 570: ['Favaloro. Logró algo que no se había realizado nunca y murió ahogado por las deudas y un gobierno al que sólo le importaba cobrar sus deudas.',\n",
       "  0.0]}"
      ]
     },
     "execution_count": 10,
     "metadata": {},
     "output_type": "execute_result"
    }
   ],
   "source": [
    "pp = Preprocess()\n",
    "\n",
    "model = TF_IDF_Model(df, pp)\n",
    "matrix = model.train('texto')\n",
    "\n",
    "model.predict_old('Izquierda en lo que respecta a mi desprecio al capitalismo.Derecha porque soy antidelincuencia.')\n",
    "\n",
    "print('\\n')\n",
    "\n",
    "model.predict_new('El Estado regule, equitativo')"
   ]
  },
  {
   "cell_type": "markdown",
   "id": "5cde8dda",
   "metadata": {},
   "source": [
    "# LSA"
   ]
  },
  {
   "cell_type": "code",
   "execution_count": 11,
   "id": "a2bd65b6",
   "metadata": {},
   "outputs": [
    {
     "name": "stdout",
     "output_type": "stream",
     "text": [
      "Comparing:\n",
      "['Izquierda en lo que respecta a mi desprecio al capitalismo.Derecha porque soy antidelincuencia.']\n",
      "\n",
      "----\n",
      "0.\n",
      "Izquierda en lo que respecta a mi desprecio al capitalismo.Derecha porque soy antidelincuencia.\n",
      "Score: 0.9999999999999999\n",
      "----\n",
      "1.\n",
      "Izquierda.Especialmente, sensibilidad social, igualdad, lucha por los derechos.\n",
      "Score: 0.9983069859793597\n",
      "----\n",
      "2.\n",
      "Con las ideas que surgen de partidos de izquierda en tanto promueven el desarrollo del estado orientado a llevar adelante políticas sociales y económicas con objetivos y nociones de equidad y justicia social.\n",
      "Score: 0.998057449643245\n",
      "----\n",
      "3.\n",
      "Partidos de derecha. Creo que históricamente los partidos considerados de izquierda no han cumplido con los ideales que supuestamente defienden. Sin embargo los de derecha se relacionan más con mi historia familiar y la defensa de esos derechos y el tipo de sociedad en la que deseo vivir. \n",
      "Score: 0.9967152513525078\n",
      "----\n",
      "4.\n",
      "Depende la dirigencia, hoy me identifico con partidos de izquierda, cuando gobierna mucho la derecha me gusta cambiar para equilibrar, y ya es hora\n",
      "Score: 0.9954111047097198\n",
      "----\n",
      "5.\n",
      "Me considero una persona de izquierda porque apoyo sus políticas \n",
      "Score: 0.9953439999611756\n",
      "----\n",
      "6.\n",
      "Me siento más identificado con los partidos de izquierda porque son los que luchan contra la desigualdad y no la ven como algo natural, como sí lo hace la derecha\n",
      "Score: 0.993647821939363\n",
      "----\n",
      "7.\n",
      "De izquierda. Porque me preocupa la calidad de vida de toda la población \n",
      "Score: 0.9932615597737396\n",
      "----\n",
      "8.\n",
      "Me siento mas identificada con partidos de izquierda porque  son partidarios de integrar políticas que fomenten el estado del bienestar\n",
      "Score: 0.9918050651037426\n",
      "----\n",
      "9.\n",
      "Me siento identificado un poco más a partidos de izquierda, pero básicamente prefiero partidos de centro. Creo que las categorías izquierda-derecha, si bien representan algunos lineamientos generales de la población, tienden a tergiversar la interpretación de la realidad y generar falsas controversias que nos alejan de soluciones pragmáticas que promuevan mejoras en el bienestar colectivo.\n",
      "Score: 0.9914874991189435\n",
      "\n",
      "\n",
      "Comparing:\n",
      "El Estado regule, equitativo\n",
      "\n",
      "----\n",
      "0.\n",
      "El Estado regule, equitativo\n",
      "Score: 1.0000000000000002\n",
      "----\n",
      "1.\n",
      "Socialista\n",
      "Score: 0.9877804465878132\n",
      "----\n",
      "2.\n",
      "Correcto. \n",
      "Score: 0.9861382047068095\n",
      "----\n",
      "3.\n",
      "Daría \n",
      "Score: 0.9857859009328968\n",
      "----\n",
      "4.\n",
      "Un poco de socialista utópico u anarquista\n",
      "Score: 0.9845305229767061\n",
      "----\n",
      "5.\n",
      "Un pantallazo acerca de los trabajos del semestre\n",
      "Score: 0.9823015900904277\n",
      "----\n",
      "6.\n",
      "René Favaloro\n",
      "Score: 0.982068953865522\n",
      "----\n",
      "7.\n",
      "El estado debe ayudar , con trabajo .Y solo dar subsidio a aquellos desempleados y hasta que logren conseguir un trabajo .\n",
      "Score: 0.9797488418129541\n",
      "----\n",
      "8.\n",
      "Deberían auditar que se le da a que empresa y el estado real de las mismas. Porque seguramente una línea de capital debe recibir el mismo subsidio que una de gonzalez catan por ejemplo, sin realizar el mismo recorrido.\n",
      "Score: 0.9761375411006941\n",
      "----\n",
      "9.\n",
      "Se debe subsidiar al consumidor que debe viajar por trabajo o necesidad no a la empresa con un criterio lógico basado en el costo de vida\n",
      "Score: 0.9753190832386988\n"
     ]
    },
    {
     "data": {
      "text/plain": [
       "{729: ['El Estado regule, equitativo', 1.0000000000000002],\n",
       " 333: ['Socialista', 0.9877804465878132],\n",
       " 289: ['Correcto. ', 0.9861382047068095],\n",
       " 574: ['Daría ', 0.9857859009328968],\n",
       " 344: ['Un poco de socialista utópico u anarquista', 0.9845305229767061],\n",
       " 442: ['Un pantallazo acerca de los trabajos del semestre',\n",
       "  0.9823015900904277],\n",
       " 633: ['René Favaloro', 0.982068953865522],\n",
       " 629: ['El estado debe ayudar , con trabajo .Y solo dar subsidio a aquellos desempleados y hasta que logren conseguir un trabajo .',\n",
       "  0.9797488418129541],\n",
       " 567: ['Deberían auditar que se le da a que empresa y el estado real de las mismas. Porque seguramente una línea de capital debe recibir el mismo subsidio que una de gonzalez catan por ejemplo, sin realizar el mismo recorrido.',\n",
       "  0.9761375411006941],\n",
       " 685: ['Se debe subsidiar al consumidor que debe viajar por trabajo o necesidad no a la empresa con un criterio lógico basado en el costo de vida',\n",
       "  0.9753190832386988]}"
      ]
     },
     "execution_count": 11,
     "metadata": {},
     "output_type": "execute_result"
    }
   ],
   "source": [
    "pp_object = Preprocess()\n",
    "model = LSA_Model(df, pp_object=pp_object)\n",
    "\n",
    "model.train(n_components = 5)\n",
    "\n",
    "model.predict_old(748)\n",
    "\n",
    "print('\\n')\n",
    "\n",
    "model.predict_new('El Estado regule, equitativo')"
   ]
  },
  {
   "cell_type": "markdown",
   "id": "29813505",
   "metadata": {},
   "source": [
    "# LDA"
   ]
  },
  {
   "cell_type": "code",
   "execution_count": 12,
   "id": "8ad0d84e",
   "metadata": {
    "scrolled": true
   },
   "outputs": [
    {
     "name": "stdout",
     "output_type": "stream",
     "text": [
      "Comparing:\n",
      "['Izquierda en lo que respecta a mi desprecio al capitalismo.Derecha porque soy antidelincuencia.']\n",
      "\n",
      "----\n",
      "0.\n",
      "Izquierda en lo que respecta a mi desprecio al capitalismo.Derecha porque soy antidelincuencia.\n",
      "Score: 0.9999999999999999\n",
      "----\n",
      "1.\n",
      "Peronista, por qué estoy a favor de la defensa del vulnerable y los intereses nacionales.\n",
      "Score: 0.9999970274015446\n",
      "----\n",
      "2.\n",
      "El poco tiempo de clases practicas donde ponemos las manos en la masa\n",
      "Score: 0.9999930402852009\n",
      "----\n",
      "3.\n",
      "De ninguno porque fui a otro planeta y vi otros modos de organización social.\n",
      "Score: 0.9999889314953286\n",
      "----\n",
      "4.\n",
      "Me identifico más con la izquierda. Porque sus políticas involucran más a la clase trabajadora. \n",
      "Score: 0.9999884581675073\n",
      "----\n",
      "5.\n",
      "Izquierda. Calculo que gracias al pensamiento critico que me fomento la universidad.\n",
      "Score: 0.9999826968924037\n",
      "----\n",
      "6.\n",
      "Jornadas ya sea de mañana o de tarde. Ampliar el taller.\n",
      "Score: 0.9999734457401692\n",
      "----\n",
      "7.\n",
      "Un mayor acompañamiento a los ingresantes, proponiendo modos de organización y adaptación. \n",
      "Score: 0.999966426344768\n",
      "----\n",
      "8.\n",
      "La verdad que no tengo una opinión formada en este tema. Me falta información para responder.\n",
      "Score: 0.9999378139883163\n",
      "----\n",
      "9.\n",
      "Mas clase de consulta y que sean mas organizados los horarios \n",
      "Score: 0.9999305440306819\n",
      "Comparing:\n",
      "El Estado regule, equitativo\n",
      "\n",
      "----\n",
      "0.\n",
      "El Estado regule, equitativo\n",
      "Score: 0.9999999999999999\n",
      "----\n",
      "1.\n",
      "No se que comentar acá. \n",
      "Score: 0.9999997157373088\n",
      "----\n",
      "2.\n",
      "La carga horaria\n",
      "Score: 0.999999509908758\n",
      "----\n",
      "3.\n",
      "Tanta carga horaria\n",
      "Score: 0.999999509908758\n",
      "----\n",
      "4.\n",
      "La carga horario\n",
      "Score: 0.999999509908758\n",
      "----\n",
      "5.\n",
      "Mobiliario poco adaptable\n",
      "Score: 0.9999995094731449\n",
      "----\n",
      "6.\n",
      "Mejores horarios\n",
      "Score: 0.9999979469773883\n",
      "----\n",
      "7.\n",
      "Hoy nadie\n",
      "Score: 0.9999948898941561\n",
      "----\n",
      "8.\n",
      "No la entiendo, se contradice. \n",
      "Score: 0.9999942979506583\n",
      "----\n",
      "9.\n",
      "los horarios de cursada. \n",
      "Score: 0.9999925633049127\n"
     ]
    },
    {
     "data": {
      "text/plain": [
       "{729: ['El Estado regule, equitativo', 0.9999999999999999],\n",
       " 571: ['No se que comentar acá. ', 0.9999997157373088],\n",
       " 515: ['La carga horaria', 0.999999509908758],\n",
       " 381: ['Tanta carga horaria', 0.999999509908758],\n",
       " 485: ['La carga horario', 0.999999509908758],\n",
       " 470: ['Mobiliario poco adaptable', 0.9999995094731449],\n",
       " 505: ['Mejores horarios', 0.9999979469773883],\n",
       " 307: ['Hoy nadie', 0.9999948898941561],\n",
       " 290: ['No la entiendo, se contradice. ', 0.9999942979506583],\n",
       " 370: ['los horarios de cursada. ', 0.9999925633049127]}"
      ]
     },
     "execution_count": 12,
     "metadata": {},
     "output_type": "execute_result"
    }
   ],
   "source": [
    "pp_object = Preprocess()\n",
    "\n",
    "model = LDA_Model(df, pp_object=pp_object)\n",
    "model.train(n_components = 5)\n",
    "\n",
    "model.predict_old(748)\n",
    "model.predict_new('El Estado regule, equitativo')"
   ]
  },
  {
   "cell_type": "markdown",
   "id": "be6257a5",
   "metadata": {},
   "source": [
    "# Spacy"
   ]
  },
  {
   "cell_type": "code",
   "execution_count": null,
   "id": "86df89f9",
   "metadata": {},
   "outputs": [],
   "source": [
    "%%capture\n",
    "!python -m spacy download es_core_news_lg "
   ]
  },
  {
   "cell_type": "code",
   "execution_count": null,
   "id": "e84c9d62",
   "metadata": {},
   "outputs": [],
   "source": [
    "pp_object = Preprocess(lemma=False, stopwords=False)\n",
    "model = Spacy_Model(df, pp_object)"
   ]
  },
  {
   "cell_type": "code",
   "execution_count": null,
   "id": "5054e8d0",
   "metadata": {
    "scrolled": true
   },
   "outputs": [],
   "source": [
    "start = time.time()\n",
    "model.predict_old(748)\n",
    "end = time.time()\n",
    "\n",
    "print(f'\\nThis took {end - start} seconds.')"
   ]
  },
  {
   "cell_type": "code",
   "execution_count": null,
   "id": "9089fb99",
   "metadata": {
    "scrolled": true
   },
   "outputs": [],
   "source": [
    "model.train()"
   ]
  },
  {
   "cell_type": "code",
   "execution_count": null,
   "id": "fb724932",
   "metadata": {
    "scrolled": true
   },
   "outputs": [],
   "source": [
    "start = time.time()\n",
    "model.predict_old(748)\n",
    "end = time.time()\n",
    "\n",
    "print(f'\\nThis took {end - start} seconds.')"
   ]
  },
  {
   "cell_type": "code",
   "execution_count": null,
   "id": "646708b0",
   "metadata": {
    "scrolled": true
   },
   "outputs": [],
   "source": [
    "new_doc = 'El Estado regule, equitativo'\n",
    "model.predict_new(new_doc)"
   ]
  }
 ],
 "metadata": {
  "kernelspec": {
   "display_name": "Python (politics_nlp)",
   "language": "python",
   "name": "politics_nlp"
  },
  "language_info": {
   "codemirror_mode": {
    "name": "ipython",
    "version": 3
   },
   "file_extension": ".py",
   "mimetype": "text/x-python",
   "name": "python",
   "nbconvert_exporter": "python",
   "pygments_lexer": "ipython3",
   "version": "3.9.12"
  }
 },
 "nbformat": 4,
 "nbformat_minor": 5
}
