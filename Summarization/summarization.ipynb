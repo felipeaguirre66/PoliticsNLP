{
 "cells": [
  {
   "attachments": {},
   "cell_type": "markdown",
   "metadata": {},
   "source": [
    "### Preprocess"
   ]
  },
  {
   "cell_type": "code",
   "execution_count": 1,
   "metadata": {},
   "outputs": [],
   "source": [
    "%%capture\n",
    "!pip install -r requirements.txt --user"
   ]
  },
  {
   "cell_type": "code",
   "execution_count": 1,
   "metadata": {},
   "outputs": [],
   "source": [
    "path_to_MyModule = '..'\n",
    "\n",
    "import sys\n",
    "sys.path.insert(0, path_to_MyModule) \n",
    "\n",
    "import pandas as pd\n",
    "\n",
    "from MyModule.GeneralFunctions import *\n",
    "from MyModule.SummarizationFunctions import *\n",
    "from MyModule.SamplingFunctions import *"
   ]
  },
  {
   "cell_type": "code",
   "execution_count": 2,
   "metadata": {},
   "outputs": [],
   "source": [
    "df = pd.read_excel('..\\datos.xlsx')[['ID','texto','desafio']]"
   ]
  },
  {
   "cell_type": "code",
   "execution_count": 3,
   "metadata": {},
   "outputs": [],
   "source": [
    "# Limpieza\n",
    "df.drop_duplicates(subset='texto', inplace=True)\n",
    "\n",
    "# Quitando texto de mas en columna \"desafio\"\n",
    "df['desafio'] = df['desafio'].apply(lambda x: re.findall('[0-9]+', x)[0])\n",
    "\n",
    "# A str\n",
    "df['texto'] = df['texto'].astype(str)"
   ]
  },
  {
   "attachments": {},
   "cell_type": "markdown",
   "metadata": {},
   "source": [
    "# Summary of each topic\n",
    "\n",
    "Abstractive summary with T5"
   ]
  },
  {
   "cell_type": "code",
   "execution_count": 19,
   "metadata": {},
   "outputs": [
    {
     "data": {
      "text/plain": [
       "0                                                  False\n",
       "5      Concuerdo parcialmente, dependiendo de en que ...\n",
       "10     Creo que hay una idea errónea de los planes so...\n",
       "15     Si bien varios estudios han demostrado que dar...\n",
       "25     Creo que el tema de los planes sociales genera...\n",
       "                             ...                        \n",
       "549    Está bien el tema de los planes... pero hay qu...\n",
       "552    En líneas generales estoy de acuerdo. Creo que...\n",
       "554    El Estado es el principal responsable de que h...\n",
       "556    Pienso que a mis abuelos ni se les ocurría ped...\n",
       "558                                    Estoy de acuerdo.\n",
       "Name: texto, Length: 83, dtype: object"
      ]
     },
     "execution_count": 19,
     "metadata": {},
     "output_type": "execute_result"
    }
   ],
   "source": [
    "df[df['desafio']=='15']['texto']"
   ]
  },
  {
   "cell_type": "code",
   "execution_count": 11,
   "metadata": {},
   "outputs": [
    {
     "name": "stdout",
     "output_type": "stream",
     "text": [
      "ckpt:\n",
      "josmunpen/mt5-small-spanish-summarization\n",
      "Desafio 15:\n",
      "['el estado quiere ayudar a garantizar el derecho a la alimentación y la salud', 'el estado debe ayudar a garantizar el derecho a la alimentación y la salud']\n",
      "\n",
      "\n",
      "Desafio 13:\n",
      "['partidos de izquierda \"me siento mas identificado con los partidos de izquierda\"', 'partidos de izquierda luchan por una distribución de la riqueza más justa']\n",
      "\n",
      "\n",
      "Desafio 14:\n",
      "['a ninguna persona, ninguna figura, ninguna figura que me genera esas emociones', 'ella de carloto \"no tengo referente de la política argentina\"']\n",
      "\n",
      "\n",
      "Desafio 12:\n",
      "['la izquierda moderada', 'la izquierda moderada, una persona de izquierda moderada']\n",
      "\n",
      "\n",
      "Desafio 16:\n",
      "['los subsidios a las empresas de transportes no son las mismas que cuando fundaron', 'los subsidios a las empresas de transportes no son las mismas que cuando fundaron']\n",
      "\n",
      "\n",
      "Desafio 17:\n",
      "['la hora de cursada sea menor', 'la hora de cursada sea menor']\n",
      "\n",
      "\n",
      "Desafio 18:\n",
      "['los horarios de cursada', 'los horarios de cursada']\n",
      "\n",
      "\n"
     ]
    }
   ],
   "source": [
    "t5 = T5Summary()\n",
    "\n",
    "desafios = df['desafio'].unique()\n",
    "for des in desafios:\n",
    "    text = '\\n'.join(df[df['desafio']==des]['texto'])\n",
    "    print(f'Desafio {des}:\\n{t5.generate_summary(text, num_beams=10)}\\n\\n')"
   ]
  },
  {
   "attachments": {},
   "cell_type": "markdown",
   "metadata": {},
   "source": [
    "# Select the most representative documents of each topic"
   ]
  },
  {
   "cell_type": "code",
   "execution_count": 13,
   "metadata": {},
   "outputs": [],
   "source": [
    "from MyModule.SummarizationFunctions import MostRepresentativeDocs\n",
    "\n",
    "pp_object = Preprocess(lemma=False)\n",
    "mrd = MostRepresentativeDocs()"
   ]
  },
  {
   "cell_type": "code",
   "execution_count": 14,
   "metadata": {},
   "outputs": [],
   "source": [
    "all_res = {}\n",
    "for des in df['desafio'].unique():\n",
    "    data = df[df['desafio']==des]['texto'].values\n",
    "    result = mrd.get_representatives(data, 5, pp_object)\n",
    "    all_res[des] = result"
   ]
  },
  {
   "cell_type": "code",
   "execution_count": 137,
   "metadata": {},
   "outputs": [
    {
     "data": {
      "text/plain": [
       "[('Soy peronista y k. Peronista x historia familiar, del pais y xq estoy convencida que el camino es x medio de la justicia social, los derechos laborales, la regulación del estado de y la distribución de la riqueza donde los mayores privilegiados sean los niños que sin el futuro del país. Y k xq soy contemporáneo y estoy convencida que hicieron  bien al país y siguieran las doctrinas peronistas',\n",
       "  0.76536745),\n",
       " ('Nacionalista y popular. Porque considero que la economía se debe manejar en función de los intereses de las mayorías, las clases populares y los intereses nacionales, en defensa de la patria y sus recursos, y defender un mercado interno fuerte con buenos salarios ',\n",
       "  0.72683716),\n",
       " ('Probablemente no podría. Entiendo que lo más cercano sería decir que valoro el desarrollo de capacidades en el estado que permitan generar políticas públicas de calidad para mejorar la situación del país y sus habitantes. Asimismo, creo que el intercambio de ideas es una de las cosas que nos hace reflexionar para poder avanzar.',\n",
       "  0.72260267),\n",
       " ('Me defino como kirchnerista. Soberania política, independencia económica y justocia social.',\n",
       "  0.7222433),\n",
       " ('Como alguien que en el fondo es de izquierda, pero, para llegar a dnd queremos hay que sacrificar comodidad. El sistema que funciona es la derecha hoy en dia, mueve la economia y la gente vive mejor. Solo hay que saber un poco de historia y leer las noticias de afuera para darse cuenta. Es lo mejor de lo peor, pero si les molesta eso, entonces trabajen y ideen un nuevo sistema en vez de quejarse.',\n",
       "  0.7141924),\n",
       " ('Izquierda libertaria, anarquismo de izq, anarcosindicalismo, ciudadanía auto organizada con sindicatos u organizaciones similares, pero pragmáticas: eventualmente aliadas a un poder o instituciones estatales que busquen los mismos objetivos de emancipación de los (no) trabajadores mas perjudicados del sistema.',\n",
       "  0.71261567),\n",
       " ('liberal, porque creo que el sistema que priorice las libertades individuales tiene mejor funcionamiento que cualquier otro que las cohiba',\n",
       "  0.7103692),\n",
       " ('Considero que, la cultura argentina en tanto a lo político-económico es demasiado compleja. Y excede mi cosmovisión personal. Creo en los derechos humanos, y en la asistencia a las poblaciones que necesitan de terceros para garantizar sus derechos.Y que en nuestro país por sobre un debate del cómo en sus decisiones político- económicas, debe realizarse un cambio cultural. ',\n",
       "  0.6750665),\n",
       " ('Hoy en dia no me siento interesada en el tema ni en debatir al respecto. Siento que no tenemos control alguno sobre la politica o la economia, sentarse a debatir con una persona sobre esto u opinar o charlar al respecto, enojarse, indignarse o hacerse mala sangre es totalmente inutil. No tenemos ningun control sobre lo que pasa en el pais, el unico momento es cada 4 años donde simplemente votamos a quien creemos que capaz podria representar nuestros ideales pero no lo hacen ni cerca. Sin embargo, no estoy para nada de acuerdo con el gobierno actual, ni el modo en como se plantea la idea de los ricos y los pobres, ni el resentimiento que se genera ni absolutamente nada. Respecto a los partidos de derecha, tampoco me siento de acuerdo con ellos pero siempre es como lo \"menos peor\" porque ya sabemos que con el tipo de gobiernos que son como el actual las cosas van en picada. Y cuando asuma otro gobierno las cosas tambien van a andar mal pero bueno',\n",
       "  0.6628436),\n",
       " ('Pragmático: equilibrar el déficit fiscal, fomentar el trabajo y la mentalidad emprendedora, facilitar crédito y exención impositivaal que genera trabajo y empleo, hacer que dolar y peso convivan como monedas de curso legal (cómo en Uruguay)  promover el mérito y el talento y sostener con planesoaquienes lo necesitwn ',\n",
       "  0.65999687),\n",
       " ('Considero que el estado debe intervenir orientando el desarrollo en función de las necesidades de la población, garantizándolos como derechos.',\n",
       "  0.6488304),\n",
       " ('Me considero ideológicamente de izquierda porque estoy en contra del actual injusto reparto de la riqueza. En el orden local, nacional,regional y mundial. Y porque entiendo que el gran problema del mundo es el exceso de consumo en pequeñas franjas de las sociedades.',\n",
       "  0.6115029),\n",
       " ('Muy a favor de las ideas que mejoren la situación de la gente q tiene menos ingresos y  oportunidades',\n",
       "  0.6112028),\n",
       " ('Estatista Intervencionista Socialista ¿Cómo lo Haría? expropiando latifundios y propiedades en manos extranjeras, interfiriendo  en el margen de ganancia de las empresas, modificando el sistema impositivo, quitando el iva, no pagaría la deuda externa, creando empresas nacionales, legislando el trabajo como un derecho y como una obligación , etc',\n",
       "  0.57888377),\n",
       " ('Ni idea. Quiero que todxs vivamos bien y que nadie joda a nadie. ',\n",
       "  0.5686685),\n",
       " ('Libertad y control con reglas estables', 0.5615551),\n",
       " ('El Estado regule, equitativo', 0.54404044),\n",
       " ('No tengo una opinion formada aún', 0.47678697),\n",
       " ('Simple proletariado que necesita trabajar para no quedar fuera del sistema perverso que tenemos que rendirle cuentas siempre. ',\n",
       "  0.4374888),\n",
       " ('Clase media, trabajador. Porque vivo trabajando para mantenerme a mi y a mi familia.',\n",
       "  0.4204152),\n",
       " ('Ser humano surfeando en delirios cósmicos ', 0.38200104)]"
      ]
     },
     "execution_count": 137,
     "metadata": {},
     "output_type": "execute_result"
    }
   ],
   "source": [
    "all_res['12'][3]"
   ]
  },
  {
   "attachments": {},
   "cell_type": "markdown",
   "metadata": {},
   "source": [
    "# Sample representative docs"
   ]
  },
  {
   "cell_type": "code",
   "execution_count": 5,
   "metadata": {},
   "outputs": [],
   "source": [
    "desafio = '12'\n",
    "\n",
    "documents = df[df['desafio']==desafio]['texto'].values\n",
    "\n",
    "pp_object = Preprocess(lemma=False, stopwords=False, alphanumeric=False, join=False)\n",
    "\n",
    "sr = SampleRepresentatives()\n",
    "res = sr.get_sample(documents, pp_object=pp_object, n_clusters=5)"
   ]
  },
  {
   "cell_type": "code",
   "execution_count": 6,
   "metadata": {},
   "outputs": [
    {
     "name": "stdout",
     "output_type": "stream",
     "text": [
      "Desafio: 12\n",
      "\n",
      "Cluster: 2\n",
      "\n",
      "No tengo una posición muy formada, pero me identifico con el liberalismo. Completamente liberal en lo social, y relativamente en lo económico. \n",
      "Creo que las narrativas en términos politicos y económicos actuales no están a la altura del mundo actual. Son ideologías viejas surgidas en contextos totalmente diferentes, no responden a las necesidades del mundo actual, sus problemáticas y sus avances. Estamos viviendo el inicio de la cuarta revolución industrial y tenemos herramientas sociales de la era de los motores a vapor. Pero respondiendo a la consigna; creo que en términos económicos me siento mas identificado con el libre flujo de capitales y con control activo de un BUEN estado. \n",
      "Me defino como kirchnerista. Soberania política, independencia económica y justocia social.\n",
      "\n",
      "Cluster: 0\n",
      "\n",
      "Nacionalista y popular. Porque considero que la economía se debe manejar en función de los intereses de las mayorías, las clases populares y los intereses nacionales, en defensa de la patria y sus recursos, y defender un mercado interno fuerte con buenos salarios \n",
      "El Estado regule, equitativo\n",
      "Considero que el estado debe intervenir orientando el desarrollo en función de las necesidades de la población, garantizándolos como derechos.\n",
      "\n",
      "Cluster: 1\n",
      "\n",
      "De centro izquierda. O, digamos, una izquierda moderada. \n",
      "Me considero una persona de izquierda porque apoyo sus políticas \n",
      "Socialismo, partidos de izquierda... aunque muchas veces las acciones y decisiones de estos sectores no me representan porque actúan en base a intereses personales.. Hoy el sector que más representa mis intereses es el peronismo/kirchnerismo. \n",
      "\n",
      "Cluster: 3\n",
      "\n",
      "Ideología Centro Derecha\n",
      "Centro - liberal\n",
      "Estructuralista LATAM. Izquierda\n",
      "\n",
      "Cluster: 4\n",
      "\n",
      "Suiza. Neutro.\n",
      "De centro.\n"
     ]
    }
   ],
   "source": [
    "print(f'Desafio: {desafio}')\n",
    "for key, value in res.items():\n",
    "    print(f'\\nCluster: {key}\\n')\n",
    "    for v in value[:3]:\n",
    "        print(v)"
   ]
  },
  {
   "attachments": {},
   "cell_type": "markdown",
   "metadata": {},
   "source": [
    "# Combination: summarization for each topic's cluster"
   ]
  },
  {
   "attachments": {},
   "cell_type": "markdown",
   "metadata": {},
   "source": [
    "Vectorice each doc"
   ]
  },
  {
   "cell_type": "code",
   "execution_count": 31,
   "metadata": {},
   "outputs": [],
   "source": [
    "model = SentenceTransformer('hiiamsid/sentence_similarity_spanish_es')"
   ]
  },
  {
   "cell_type": "code",
   "execution_count": 32,
   "metadata": {},
   "outputs": [
    {
     "data": {
      "text/plain": [
       "array(['15', '13', '14', '12', '16', '17', '18'], dtype=object)"
      ]
     },
     "execution_count": 32,
     "metadata": {},
     "output_type": "execute_result"
    }
   ],
   "source": [
    "df['desafio'].unique()"
   ]
  },
  {
   "cell_type": "code",
   "execution_count": 67,
   "metadata": {},
   "outputs": [],
   "source": [
    "desafio = '14'\n",
    "\n",
    "original_documents = df.query(f'desafio == \"{desafio}\"')['texto'].values\n",
    "documents = pp_object.preprocess(original_documents)\n",
    "\n",
    "emb_docs = model.encode(original_documents)"
   ]
  },
  {
   "attachments": {},
   "cell_type": "markdown",
   "metadata": {},
   "source": [
    "Cluster them with K-Means"
   ]
  },
  {
   "cell_type": "code",
   "execution_count": 68,
   "metadata": {},
   "outputs": [],
   "source": [
    "n_clusters = 5\n",
    "kmeans = KMeans(\n",
    "            init=\"k-means++\",\n",
    "            n_clusters=n_clusters,\n",
    "            n_init=10,\n",
    "            max_iter=300)"
   ]
  },
  {
   "cell_type": "code",
   "execution_count": 69,
   "metadata": {},
   "outputs": [
    {
     "data": {
      "text/html": [
       "<style>#sk-container-id-6 {color: black;background-color: white;}#sk-container-id-6 pre{padding: 0;}#sk-container-id-6 div.sk-toggleable {background-color: white;}#sk-container-id-6 label.sk-toggleable__label {cursor: pointer;display: block;width: 100%;margin-bottom: 0;padding: 0.3em;box-sizing: border-box;text-align: center;}#sk-container-id-6 label.sk-toggleable__label-arrow:before {content: \"▸\";float: left;margin-right: 0.25em;color: #696969;}#sk-container-id-6 label.sk-toggleable__label-arrow:hover:before {color: black;}#sk-container-id-6 div.sk-estimator:hover label.sk-toggleable__label-arrow:before {color: black;}#sk-container-id-6 div.sk-toggleable__content {max-height: 0;max-width: 0;overflow: hidden;text-align: left;background-color: #f0f8ff;}#sk-container-id-6 div.sk-toggleable__content pre {margin: 0.2em;color: black;border-radius: 0.25em;background-color: #f0f8ff;}#sk-container-id-6 input.sk-toggleable__control:checked~div.sk-toggleable__content {max-height: 200px;max-width: 100%;overflow: auto;}#sk-container-id-6 input.sk-toggleable__control:checked~label.sk-toggleable__label-arrow:before {content: \"▾\";}#sk-container-id-6 div.sk-estimator input.sk-toggleable__control:checked~label.sk-toggleable__label {background-color: #d4ebff;}#sk-container-id-6 div.sk-label input.sk-toggleable__control:checked~label.sk-toggleable__label {background-color: #d4ebff;}#sk-container-id-6 input.sk-hidden--visually {border: 0;clip: rect(1px 1px 1px 1px);clip: rect(1px, 1px, 1px, 1px);height: 1px;margin: -1px;overflow: hidden;padding: 0;position: absolute;width: 1px;}#sk-container-id-6 div.sk-estimator {font-family: monospace;background-color: #f0f8ff;border: 1px dotted black;border-radius: 0.25em;box-sizing: border-box;margin-bottom: 0.5em;}#sk-container-id-6 div.sk-estimator:hover {background-color: #d4ebff;}#sk-container-id-6 div.sk-parallel-item::after {content: \"\";width: 100%;border-bottom: 1px solid gray;flex-grow: 1;}#sk-container-id-6 div.sk-label:hover label.sk-toggleable__label {background-color: #d4ebff;}#sk-container-id-6 div.sk-serial::before {content: \"\";position: absolute;border-left: 1px solid gray;box-sizing: border-box;top: 0;bottom: 0;left: 50%;z-index: 0;}#sk-container-id-6 div.sk-serial {display: flex;flex-direction: column;align-items: center;background-color: white;padding-right: 0.2em;padding-left: 0.2em;position: relative;}#sk-container-id-6 div.sk-item {position: relative;z-index: 1;}#sk-container-id-6 div.sk-parallel {display: flex;align-items: stretch;justify-content: center;background-color: white;position: relative;}#sk-container-id-6 div.sk-item::before, #sk-container-id-6 div.sk-parallel-item::before {content: \"\";position: absolute;border-left: 1px solid gray;box-sizing: border-box;top: 0;bottom: 0;left: 50%;z-index: -1;}#sk-container-id-6 div.sk-parallel-item {display: flex;flex-direction: column;z-index: 1;position: relative;background-color: white;}#sk-container-id-6 div.sk-parallel-item:first-child::after {align-self: flex-end;width: 50%;}#sk-container-id-6 div.sk-parallel-item:last-child::after {align-self: flex-start;width: 50%;}#sk-container-id-6 div.sk-parallel-item:only-child::after {width: 0;}#sk-container-id-6 div.sk-dashed-wrapped {border: 1px dashed gray;margin: 0 0.4em 0.5em 0.4em;box-sizing: border-box;padding-bottom: 0.4em;background-color: white;}#sk-container-id-6 div.sk-label label {font-family: monospace;font-weight: bold;display: inline-block;line-height: 1.2em;}#sk-container-id-6 div.sk-label-container {text-align: center;}#sk-container-id-6 div.sk-container {/* jupyter's `normalize.less` sets `[hidden] { display: none; }` but bootstrap.min.css set `[hidden] { display: none !important; }` so we also need the `!important` here to be able to override the default hidden behavior on the sphinx rendered scikit-learn.org. See: https://github.com/scikit-learn/scikit-learn/issues/21755 */display: inline-block !important;position: relative;}#sk-container-id-6 div.sk-text-repr-fallback {display: none;}</style><div id=\"sk-container-id-6\" class=\"sk-top-container\"><div class=\"sk-text-repr-fallback\"><pre>KMeans(n_clusters=5, n_init=10)</pre><b>In a Jupyter environment, please rerun this cell to show the HTML representation or trust the notebook. <br />On GitHub, the HTML representation is unable to render, please try loading this page with nbviewer.org.</b></div><div class=\"sk-container\" hidden><div class=\"sk-item\"><div class=\"sk-estimator sk-toggleable\"><input class=\"sk-toggleable__control sk-hidden--visually\" id=\"sk-estimator-id-6\" type=\"checkbox\" checked><label for=\"sk-estimator-id-6\" class=\"sk-toggleable__label sk-toggleable__label-arrow\">KMeans</label><div class=\"sk-toggleable__content\"><pre>KMeans(n_clusters=5, n_init=10)</pre></div></div></div></div></div>"
      ],
      "text/plain": [
       "KMeans(n_clusters=5, n_init=10)"
      ]
     },
     "execution_count": 69,
     "metadata": {},
     "output_type": "execute_result"
    }
   ],
   "source": [
    "kmeans.fit(emb_docs)"
   ]
  },
  {
   "cell_type": "code",
   "execution_count": 70,
   "metadata": {},
   "outputs": [],
   "source": [
    "labeled_docs = {}\n",
    "for i, orig_doc in enumerate(original_documents):\n",
    "    current_label = kmeans.labels_[i]\n",
    "    if current_label in labeled_docs.keys():\n",
    "        labeled_docs[current_label].append(orig_doc)\n",
    "    else:\n",
    "        labeled_docs[current_label] = [orig_doc]"
   ]
  },
  {
   "attachments": {},
   "cell_type": "markdown",
   "metadata": {},
   "source": [
    "Apply T5 and BETO summarization to each cluster"
   ]
  },
  {
   "cell_type": "code",
   "execution_count": 73,
   "metadata": {},
   "outputs": [
    {
     "name": "stdout",
     "output_type": "stream",
     "text": [
      "ckpt:\n",
      "mrm8488/bert2bert_shared-spanish-finetuned-summarization\n"
     ]
    },
    {
     "name": "stderr",
     "output_type": "stream",
     "text": [
      "The following encoder weights were not tied to the decoder ['bert/pooler']\n",
      "The following encoder weights were not tied to the decoder ['bert/pooler']\n"
     ]
    },
    {
     "name": "stdout",
     "output_type": "stream",
     "text": [
      "ckpt:\n",
      "josmunpen/mt5-small-spanish-summarization\n",
      "BERT, Cluster 4:\n",
      "['Muy difícil de responder. Puedo pensar solo en referentes científicos y deportistas. A ninguna, ninguna figura relativamente conocida me genera esas emociones... No tengo preferencias por ninguna persona', 'A ninguna, ninguna figura relativamente conocida me genera esas emociones. No tengo preferencias por ninguna persona en particular. No sé. Hoy nadie']\n",
      "\n",
      "\n",
      "T5, Cluster 4:\n",
      "['\"no tengo a alguna persona para mencionar a ninguna persona en particular\"', '\"no tengo a alguna persona para mencionar a ninguna persona en particular\"']\n",
      "\n",
      "\n",
      "BERT, Cluster 2:\n",
      "['La verdad nose, la unica persona que mas relaciones positivas a nivel internacional genera, y la wur mas representa los intereses de la ckade trabajadora', 'La verdad nose, la unica persona más influyente politicamente, la que mas relaciones positivas a nivel internacional genera, y la wur mas representa los intereses de la ckade trabajadora']\n",
      "\n",
      "\n",
      "T5, Cluster 2:\n",
      "['sánchez, el actor espléndido y el pibe', 'Cristina, la persona mas influyente y el pibe']\n",
      "\n",
      "\n",
      "BERT, Cluster 0:\n",
      "['El periodista de EL PAÍS repasa su vida y su obra en su libro de memorias', 'Estela de Carlotto es un ejemplo de esfuerzo y superación, una figura a seguir y un ídolo']\n",
      "\n",
      "\n",
      "T5, Cluster 0:\n",
      "['rené Favaloro, un ejemplo de esfuerzo y superación', 'rené Favaloro, un ejemplo de esfuerzo y superación']\n",
      "\n",
      "\n",
      "BERT, Cluster 3:\n",
      "['La única que representa los valores del peronismo es la única dirigente política capaz de luchar por la soberanía y de evitar el brutal saqueo y expoliación', 'La única que representa los valores del peronismo es la única dirigente política capaz de luchar por la soberanía y de evitar el brutal saqueo y expoliación']\n",
      "\n",
      "\n",
      "T5, Cluster 3:\n",
      "['carlos menem, la única referente política de la política argentina', 'iglesias, la única referente política de la política argentina']\n",
      "\n",
      "\n",
      "BERT, Cluster 1:\n",
      "['El periodista de EL PAÍS Juan Car. gallperin analiza las claves de la última semana de la serie de HBO', 'El periodista de EL PAÍS Rubén Amón analiza las claves de la actualidad en la última semana de la serie']\n",
      "\n",
      "\n",
      "T5, Cluster 1:\n",
      "['francisco car. gallperin, gallperin, gallperin, gallperin, gallperin, gallperin, gallperin, gallperin, gallperin, gallperin, gallperin, gallperin, gallperin, gallperin, gallperin, gallperin, gallperin, gallperin, gallperin, gallperin, gallperin, gallperin, gallperin, gallperin, gallperin, gallperin, gallperin, gallperin, gallperin, gallperin, gallperin, gallperin, gallperin, gallperin, gallperin, gallperin, gallperin, gallperin, gallperin, gallperin, gallperin, gallperin, gallperin, gallperin, gallperin, gallperin, gallperin, gallperin, gallperin, gallperin, gallperin, gallperin, gallperin, gallperin, gallperin, gallperin, gallperin, gallperin, gallperin, gallperin, gallperin, gallperin, gallperin, gallperin, gallperin', 'juan car. gallperin, gallperin. gallperin, gallperin, gallperin, gallperin, gallperin, gallperin, gallperin, gallperin, gallperin, gallperin, gallperin, gallperin, gallperin, gallperin, gallperin, gallperin, gallperin, gallperin, gallperin, gallperin, gallperin, gallperin, gallperin, gallperin, gallperin, gallperin, gallperin, gallperin, gallperin, gallperin, gallperin, gallperin, gallperin, gallperin, gallperin, gallperin, gallperin, gallperin, gallperin, gallperin, gallperin, gallperin, gallperin, gallperin, gallperin, gallperin, gallperin, gallperin, gallperin, gallperin, gallperin, gallperin, gallperin, gallperin, gallperin, gallperin, gallperin, gallperin, gallperin, gallperin, gallperin, gallperin, gallperin, gallperin, gallperin, gallperin, gallperin, gallperin, gallperin, gallperin, gallperin, gallperin, gallperin, gallperin, gallperin, gallperin, gallperin, gallperin, gallperin, gallperin, gallperin, gallperin, gallperin, gallperin, gallperin, gallperin, gallperin, gallperin, gallperin, gallperin, gallperin, gallperin']\n",
      "\n",
      "\n"
     ]
    }
   ],
   "source": [
    "from time import sleep\n",
    "\n",
    "beto = BETOSummary()\n",
    "\n",
    "t5 = T5Summary()\n",
    "\n",
    "for key, values in labeled_docs.items():\n",
    "    text = '.\\n'.join(values)\n",
    "    print(f'BERT, Cluster {key}:\\n{beto.generate_summary(text)}\\n\\n')\n",
    "    sleep(2)\n",
    "    print(f'T5, Cluster {key}:\\n{t5.generate_summary(text)}\\n\\n')"
   ]
  }
 ],
 "metadata": {
  "kernelspec": {
   "display_name": "Python (politics_nlp)",
   "language": "python",
   "name": "politics_nlp"
  },
  "language_info": {
   "codemirror_mode": {
    "name": "ipython",
    "version": 3
   },
   "file_extension": ".py",
   "mimetype": "text/x-python",
   "name": "python",
   "nbconvert_exporter": "python",
   "pygments_lexer": "ipython3",
   "version": "3.9.12"
  },
  "orig_nbformat": 4,
  "vscode": {
   "interpreter": {
    "hash": "89ff38eb85f6997b5e3c2063f2dbb85e394a03e8d4e24c64f841e981b030dc0a"
   }
  }
 },
 "nbformat": 4,
 "nbformat_minor": 2
}
