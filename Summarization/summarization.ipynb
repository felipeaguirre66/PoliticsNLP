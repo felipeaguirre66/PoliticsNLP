{
 "cells": [
  {
   "cell_type": "code",
   "execution_count": 1,
   "metadata": {},
   "outputs": [],
   "source": [
    "%%capture\n",
    "!pip install -r requirements.txt --user"
   ]
  },
  {
   "cell_type": "code",
   "execution_count": 2,
   "metadata": {},
   "outputs": [],
   "source": [
    "path_to_MyModule = '..'\n",
    "\n",
    "import sys\n",
    "sys.path.insert(0, path_to_MyModule) \n",
    "\n",
    "import pandas as pd\n",
    "\n",
    "from MyModule.GeneralFunctions import *\n",
    "from MyModule.SummarizationFunctions import *\n",
    "from MyModule.SamplingFunctions import *"
   ]
  },
  {
   "cell_type": "code",
   "execution_count": 3,
   "metadata": {},
   "outputs": [],
   "source": [
    "df = pd.read_excel('..\\datos.xlsx')[['ID','texto','desafio']]"
   ]
  },
  {
   "cell_type": "code",
   "execution_count": 4,
   "metadata": {},
   "outputs": [],
   "source": [
    "# Limpieza\n",
    "df.drop_duplicates(subset='texto', inplace=True)\n",
    "\n",
    "# Quitando texto de mas en columna \"desafio\"\n",
    "df['desafio'] = df['desafio'].apply(lambda x: re.findall('[0-9]+', x)[0])\n",
    "\n",
    "# A str\n",
    "df['texto'] = df['texto'].astype(str)"
   ]
  },
  {
   "attachments": {},
   "cell_type": "markdown",
   "metadata": {},
   "source": [
    "# Summary of each topic\n",
    "\n",
    "Abstractive summary with T5"
   ]
  },
  {
   "cell_type": "code",
   "execution_count": 11,
   "metadata": {},
   "outputs": [
    {
     "name": "stdout",
     "output_type": "stream",
     "text": [
      "ckpt:\n",
      "josmunpen/mt5-small-spanish-summarization\n",
      "Desafio 15:\n",
      "['el estado quiere ayudar a garantizar el derecho a la alimentación y la salud', 'el estado debe ayudar a garantizar el derecho a la alimentación y la salud']\n",
      "\n",
      "\n",
      "Desafio 13:\n",
      "['partidos de izquierda \"me siento mas identificado con los partidos de izquierda\"', 'partidos de izquierda luchan por una distribución de la riqueza más justa']\n",
      "\n",
      "\n",
      "Desafio 14:\n",
      "['a ninguna persona, ninguna figura, ninguna figura que me genera esas emociones', 'ella de carloto \"no tengo referente de la política argentina\"']\n",
      "\n",
      "\n",
      "Desafio 12:\n",
      "['la izquierda moderada', 'la izquierda moderada, una persona de izquierda moderada']\n",
      "\n",
      "\n",
      "Desafio 16:\n",
      "['los subsidios a las empresas de transportes no son las mismas que cuando fundaron', 'los subsidios a las empresas de transportes no son las mismas que cuando fundaron']\n",
      "\n",
      "\n",
      "Desafio 17:\n",
      "['la hora de cursada sea menor', 'la hora de cursada sea menor']\n",
      "\n",
      "\n",
      "Desafio 18:\n",
      "['los horarios de cursada', 'los horarios de cursada']\n",
      "\n",
      "\n"
     ]
    }
   ],
   "source": [
    "t5 = T5Summary()\n",
    "\n",
    "desafios = df['desafio'].unique()\n",
    "for des in desafios:\n",
    "    text = '\\n'.join(df[df['desafio']==des]['texto'])\n",
    "    print(f'Desafio {des}:\\n{t5.generate_summary(text, num_beams=10)}\\n\\n')"
   ]
  },
  {
   "attachments": {},
   "cell_type": "markdown",
   "metadata": {},
   "source": [
    "# Select most representative documents of each topic"
   ]
  },
  {
   "cell_type": "code",
   "execution_count": 4,
   "metadata": {},
   "outputs": [],
   "source": [
    "from MyModule.SummarizationFunctions import MostRepresentativeDocs\n",
    "\n",
    "pp_object = Preprocess(lemma=False)\n",
    "mrd = MostRepresentativeDocs()"
   ]
  },
  {
   "cell_type": "code",
   "execution_count": 5,
   "metadata": {},
   "outputs": [],
   "source": [
    "all_res = {}\n",
    "for des in df['desafio'].unique():\n",
    "    data = df[df['desafio']==des]['texto'].values\n",
    "    result = mrd.get_representatives(data, pp_object, 3)\n",
    "    all_res[des] = result"
   ]
  },
  {
   "cell_type": "code",
   "execution_count": 6,
   "metadata": {},
   "outputs": [
    {
     "data": {
      "text/plain": [
       "[('mas opciones de comida vegetarias tanto en bandeja como en el kiosco',\n",
       "  0.8862039),\n",
       " ('Mas variedad de comida vegetariana', 0.82250243),\n",
       " ('Más menús de opciones vegetarianas y veganas. ', 0.81061655),\n",
       " ('más comidas hechas como tartas, ensaladas, etc', 0.68575925),\n",
       " ('Comida sin harina en el kiosco ', 0.64939505)]"
      ]
     },
     "execution_count": 6,
     "metadata": {},
     "output_type": "execute_result"
    }
   ],
   "source": [
    "all_res['17'][0]"
   ]
  },
  {
   "attachments": {},
   "cell_type": "markdown",
   "metadata": {},
   "source": [
    "# Sample representative docs"
   ]
  },
  {
   "cell_type": "code",
   "execution_count": 7,
   "metadata": {},
   "outputs": [],
   "source": [
    "desafio = '12'\n",
    "\n",
    "documents = df[df['desafio']==desafio]['texto'].values\n",
    "\n",
    "pp_object = Preprocess(lemma=False, stopwords=False, alphanumeric=False, join=False)\n",
    "\n",
    "sr = SampleRepresentatives()\n",
    "res = sr.get_sample(documents, pp_object, n_clusters=5)"
   ]
  },
  {
   "cell_type": "code",
   "execution_count": 8,
   "metadata": {},
   "outputs": [
    {
     "name": "stdout",
     "output_type": "stream",
     "text": [
      "Desafio: 12\n",
      "\n",
      "Cluster: 1\n",
      "\n",
      "No tengo una posición muy formada, pero me identifico con el liberalismo. Completamente liberal en lo social, y relativamente en lo económico. \n",
      "No me siento identificada con ningún partido político.En materia económica simpatizo con las ideas liberales.\n",
      "No puedo definirme ideológicamente en estos términos porque desconozco a qué hace referencia \n",
      "\n",
      "Cluster: 2\n",
      "\n",
      "Nacionalista y popular. Porque considero que la economía se debe manejar en función de los intereses de las mayorías, las clases populares y los intereses nacionales, en defensa de la patria y sus recursos, y defender un mercado interno fuerte con buenos salarios \n",
      "Creo que las narrativas en términos politicos y económicos actuales no están a la altura del mundo actual. Son ideologías viejas surgidas en contextos totalmente diferentes, no responden a las necesidades del mundo actual, sus problemáticas y sus avances. Estamos viviendo el inicio de la cuarta revolución industrial y tenemos herramientas sociales de la era de los motores a vapor. Pero respondiendo a la consigna; creo que en términos económicos me siento mas identificado con el libre flujo de capitales y con control activo de un BUEN estado. \n",
      "Me defino como kirchnerista. Soberania política, independencia económica y justocia social.\n",
      "\n",
      "Cluster: 3\n",
      "\n",
      "El Estado regule, equitativo\n",
      "Ni idea. Quiero que todxs vivamos bien y que nadie joda a nadie. \n",
      "liberal, porque creo que el sistema que priorice las libertades individuales tiene mejor funcionamiento que cualquier otro que las cohiba\n",
      "\n",
      "Cluster: 4\n",
      "\n",
      "De centro izquierda. O, digamos, una izquierda moderada. \n",
      "Me considero una persona de izquierda porque apoyo sus políticas \n",
      "Socialismo, partidos de izquierda... aunque muchas veces las acciones y decisiones de estos sectores no me representan porque actúan en base a intereses personales.. Hoy el sector que más representa mis intereses es el peronismo/kirchnerismo. \n",
      "\n",
      "Cluster: 0\n",
      "\n",
      "Ser humano surfeando en delirios cósmicos \n",
      "Apolitico\n"
     ]
    }
   ],
   "source": [
    "print(f'Desafio: {desafio}')\n",
    "for key, value in res.items():\n",
    "    print(f'\\nCluster: {key}\\n')\n",
    "    for v in value[:3]:\n",
    "        print(v)"
   ]
  }
 ],
 "metadata": {
  "kernelspec": {
   "display_name": "Python (politics_nlp)",
   "language": "python",
   "name": "politics_nlp"
  },
  "language_info": {
   "codemirror_mode": {
    "name": "ipython",
    "version": 3
   },
   "file_extension": ".py",
   "mimetype": "text/x-python",
   "name": "python",
   "nbconvert_exporter": "python",
   "pygments_lexer": "ipython3",
   "version": "3.9.12"
  },
  "orig_nbformat": 4,
  "vscode": {
   "interpreter": {
    "hash": "89ff38eb85f6997b5e3c2063f2dbb85e394a03e8d4e24c64f841e981b030dc0a"
   }
  }
 },
 "nbformat": 4,
 "nbformat_minor": 2
}
