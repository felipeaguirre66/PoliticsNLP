{
 "cells": [
  {
   "cell_type": "code",
   "execution_count": 1,
   "metadata": {},
   "outputs": [
    {
     "name": "stderr",
     "output_type": "stream",
     "text": [
      "ERROR: Could not open requirements file: [Errno 2] No such file or directory: 'requirements.txt'\n"
     ]
    }
   ],
   "source": [
    "%%capture\n",
    "!pip install -r requirements.txt --user"
   ]
  },
  {
   "cell_type": "code",
   "execution_count": 1,
   "metadata": {},
   "outputs": [],
   "source": [
    "path_to_MyModule = '..'\n",
    "\n",
    "import sys\n",
    "sys.path.insert(0, path_to_MyModule) \n",
    "\n",
    "import pandas as pd\n",
    "\n",
    "from MyModule.GeneralFunctions import *\n",
    "from MyModule.SummarizationFunctions import *"
   ]
  },
  {
   "cell_type": "code",
   "execution_count": 2,
   "metadata": {},
   "outputs": [],
   "source": [
    "df = pd.read_excel('..\\datos.xlsx')[['ID','texto','desafio']]"
   ]
  },
  {
   "cell_type": "code",
   "execution_count": 3,
   "metadata": {},
   "outputs": [],
   "source": [
    "# Limpieza\n",
    "df.drop_duplicates(subset='texto', inplace=True)\n",
    "\n",
    "# Quitando texto de mas en columna \"desafio\"\n",
    "df['desafio'] = df['desafio'].apply(lambda x: re.findall('[0-9]+', x)[0])\n",
    "\n",
    "# A str\n",
    "df['texto'] = df['texto'].astype(str)"
   ]
  },
  {
   "attachments": {},
   "cell_type": "markdown",
   "metadata": {},
   "source": [
    "# Summary of each topic\n",
    "\n",
    "Abstractive summary with T5"
   ]
  },
  {
   "cell_type": "code",
   "execution_count": 11,
   "metadata": {},
   "outputs": [
    {
     "name": "stdout",
     "output_type": "stream",
     "text": [
      "ckpt:\n",
      "josmunpen/mt5-small-spanish-summarization\n",
      "Desafio 15:\n",
      "['el estado quiere ayudar a garantizar el derecho a la alimentación y la salud', 'el estado debe ayudar a garantizar el derecho a la alimentación y la salud']\n",
      "\n",
      "\n",
      "Desafio 13:\n",
      "['partidos de izquierda \"me siento mas identificado con los partidos de izquierda\"', 'partidos de izquierda luchan por una distribución de la riqueza más justa']\n",
      "\n",
      "\n",
      "Desafio 14:\n",
      "['a ninguna persona, ninguna figura, ninguna figura que me genera esas emociones', 'ella de carloto \"no tengo referente de la política argentina\"']\n",
      "\n",
      "\n",
      "Desafio 12:\n",
      "['la izquierda moderada', 'la izquierda moderada, una persona de izquierda moderada']\n",
      "\n",
      "\n",
      "Desafio 16:\n",
      "['los subsidios a las empresas de transportes no son las mismas que cuando fundaron', 'los subsidios a las empresas de transportes no son las mismas que cuando fundaron']\n",
      "\n",
      "\n",
      "Desafio 17:\n",
      "['la hora de cursada sea menor', 'la hora de cursada sea menor']\n",
      "\n",
      "\n",
      "Desafio 18:\n",
      "['los horarios de cursada', 'los horarios de cursada']\n",
      "\n",
      "\n"
     ]
    }
   ],
   "source": [
    "t5 = T5Summary()\n",
    "\n",
    "desafios = df['desafio'].unique()\n",
    "for des in desafios:\n",
    "    text = '\\n'.join(df[df['desafio']==des]['texto'])\n",
    "    print(f'Desafio {des}:\\n{t5.generate_summary(text, num_beams=10)}\\n\\n')"
   ]
  },
  {
   "attachments": {},
   "cell_type": "markdown",
   "metadata": {},
   "source": [
    "# Select most representative documents of each topic"
   ]
  },
  {
   "cell_type": "code",
   "execution_count": 4,
   "metadata": {},
   "outputs": [],
   "source": [
    "from MyModule.SummarizationFunctions import MostRepresentativeDocs\n",
    "\n",
    "pp_object = Preprocess(lemma=False)\n",
    "mrd = MostRepresentativeDocs()"
   ]
  },
  {
   "cell_type": "code",
   "execution_count": 5,
   "metadata": {},
   "outputs": [],
   "source": [
    "all_res = {}\n",
    "for des in df['desafio'].unique():\n",
    "    data = df[df['desafio']==des]['texto'].values\n",
    "    result = mrd.get_representatives(data, pp_object, 3)\n",
    "    all_res[des] = result"
   ]
  },
  {
   "cell_type": "code",
   "execution_count": 6,
   "metadata": {},
   "outputs": [
    {
     "data": {
      "text/plain": [
       "[('mas opciones de comida vegetarias tanto en bandeja como en el kiosco',\n",
       "  0.8862039),\n",
       " ('Mas variedad de comida vegetariana', 0.82250243),\n",
       " ('Más menús de opciones vegetarianas y veganas. ', 0.81061655),\n",
       " ('más comidas hechas como tartas, ensaladas, etc', 0.68575925),\n",
       " ('Comida sin harina en el kiosco ', 0.64939505)]"
      ]
     },
     "execution_count": 6,
     "metadata": {},
     "output_type": "execute_result"
    }
   ],
   "source": [
    "all_res['17'][0]"
   ]
  }
 ],
 "metadata": {
  "kernelspec": {
   "display_name": "Python 3.10.8 ('politics_nlp')",
   "language": "python",
   "name": "python3"
  },
  "language_info": {
   "codemirror_mode": {
    "name": "ipython",
    "version": 3
   },
   "file_extension": ".py",
   "mimetype": "text/x-python",
   "name": "python",
   "nbconvert_exporter": "python",
   "pygments_lexer": "ipython3",
   "version": "3.10.8"
  },
  "orig_nbformat": 4,
  "vscode": {
   "interpreter": {
    "hash": "89ff38eb85f6997b5e3c2063f2dbb85e394a03e8d4e24c64f841e981b030dc0a"
   }
  }
 },
 "nbformat": 4,
 "nbformat_minor": 2
}
